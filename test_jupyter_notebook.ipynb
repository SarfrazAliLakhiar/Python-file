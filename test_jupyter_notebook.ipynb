{
 "cells": [
  {
   "cell_type": "markdown",
   "id": "e92b06f7",
   "metadata": {},
   "source": [
    "# python ka chilla with Sarfraz\n",
    "## How to use Jupyter Note Book\n",
    "## Basic of Python\n",
    "### **01- My first program**"
   ]
  },
  {
   "cell_type": "code",
   "execution_count": 112,
   "id": "3908674c",
   "metadata": {
    "scrolled": true
   },
   "outputs": [
    {
     "name": "stdout",
     "output_type": "stream",
     "text": [
      "5\n",
      "Hello World\n",
      "We are learning with Sarfraz2\n"
     ]
    }
   ],
   "source": [
    "\n",
    "print(2+3)\n",
    "print(\"Hello World\")\n",
    "print(\"We are learning with Sarfraz2\")"
   ]
  },
  {
   "cell_type": "markdown",
   "id": "d4d82735",
   "metadata": {},
   "source": [
    "### **02-operators**"
   ]
  },
  {
   "cell_type": "code",
   "execution_count": 113,
   "id": "fb302502",
   "metadata": {},
   "outputs": [
    {
     "name": "stdout",
     "output_type": "stream",
     "text": [
      "3\n",
      "2\n",
      "3.0\n",
      "6\n",
      "1\n",
      "3\n",
      "8\n",
      "6.5\n"
     ]
    }
   ],
   "source": [
    "print(2+1)\n",
    "print(3-1)\n",
    "print(6/2)\n",
    "print(2*3)\n",
    "print(13%2)\n",
    "print(6//2)\n",
    "print(2**3)\n",
    "\n",
    "print(3**2/2*3/3+6-4)"
   ]
  },
  {
   "cell_type": "markdown",
   "id": "123cbfaa",
   "metadata": {},
   "source": [
    "**PEMDAS\n",
    "parenthesis Exponents Multiply Divide Addition Subtraction\n",
    "left to right sequence for M D & A S**"
   ]
  },
  {
   "cell_type": "markdown",
   "id": "b50c6af1",
   "metadata": {},
   "source": [
    "### **03-Strings**"
   ]
  },
  {
   "cell_type": "code",
   "execution_count": 114,
   "id": "5ca38709",
   "metadata": {},
   "outputs": [
    {
     "name": "stdout",
     "output_type": "stream",
     "text": [
      "Hello World\n",
      "We are learning with Sarfraz2\n",
      "Test for single quotes\n",
      "Test for double quotes\n",
      "Test for tripple quotes\n",
      "What's up? \n"
     ]
    }
   ],
   "source": [
    "print(\"Hello World\")\n",
    "print(\"We are learning with Sarfraz2\")\n",
    "print('Test for single quotes')\n",
    "print(\"Test for double quotes\")\n",
    "print('''Test for tripple quotes''')\n",
    "print(\"What's up? \")"
   ]
  },
  {
   "cell_type": "markdown",
   "id": "101ebf34",
   "metadata": {},
   "source": [
    "### **04-comments in python**\n",
    "The Shorcut key to comments is **ctrl+/**"
   ]
  },
  {
   "cell_type": "code",
   "execution_count": 115,
   "id": "16de85ba",
   "metadata": {},
   "outputs": [
    {
     "name": "stdout",
     "output_type": "stream",
     "text": [
      "How are you?\n",
      "We are learning python with Sarfraz2\n",
      "5\n"
     ]
    }
   ],
   "source": [
    "print(\"How are you?\")      #press these to comment out (ctrl+/)\n",
    "print(\"We are learning python with Sarfraz2\") #print a string\n",
    "print(2+3) # print operators function with numbers"
   ]
  },
  {
   "cell_type": "code",
   "execution_count": 116,
   "id": "57f375a2",
   "metadata": {},
   "outputs": [],
   "source": [
    "### **05-variable in python**"
   ]
  },
  {
   "cell_type": "code",
   "execution_count": 117,
   "id": "7e208149",
   "metadata": {},
   "outputs": [
    {
     "name": "stdout",
     "output_type": "stream",
     "text": [
      "5\n",
      "We are learning python with Sarfraz\n",
      "15\n",
      "<class 'int'>\n",
      "<class 'str'>\n",
      "<class 'str'>\n",
      "Apples\n"
     ]
    }
   ],
   "source": [
    "# variables: objects containing specfic values\n",
    "x = 5 #numberic or integer varible\n",
    "print(x)\n",
    "\n",
    "y=\"We are learning python with Sarfraz\" #string varible\n",
    "print(y)\n",
    "\n",
    "x= x+10 #or x=15\n",
    "print(x)\n",
    "\n",
    "\n",
    "#types/class of variables\n",
    "type(x)\n",
    "print(type(x))\n",
    "\n",
    "print(type(y))\n",
    "\n",
    "#print_type_class\n",
    "\n",
    "# Rules to assign a variable\n",
    "# 1- The varible should letters, number or underscore\n",
    "# 2- Do not start with numbers\n",
    "# 3- Spaces are not allowed\n",
    "# 4- Do not use keywords used in functions (break, mean, media, test, etc,)\n",
    "# 5- Short and descriptive\n",
    "# 6- Case senstivity (Lowercase, uppercase letters lower case letters should be used)\n",
    "\n",
    "\n",
    "fruit_basket= 8\n",
    "fruit_basket= \"Apples\"\n",
    "print(type(fruit_basket))\n",
    "print(fruit_basket)"
   ]
  },
  {
   "cell_type": "code",
   "execution_count": 118,
   "id": "464b2809",
   "metadata": {},
   "outputs": [],
   "source": [
    "### **06-input_variable in python**"
   ]
  },
  {
   "cell_type": "code",
   "execution_count": 119,
   "id": "f460c0d8",
   "metadata": {},
   "outputs": [
    {
     "name": "stdout",
     "output_type": "stream",
     "text": [
      "Which is your favrourite fruit?apple\n",
      "apple\n",
      "What is your name? hamand\n",
      "How old are you? 5\n",
      "Hello! hamand ,You are still young\n",
      "Hello! hamand\n"
     ]
    }
   ],
   "source": [
    "#fruit_basket=\"Mangoes\"\n",
    "#print(fruit_basket)\n",
    "\n",
    "#input-function\n",
    "fruit_basket=input(\"Which is your favrourite fruit?\")\n",
    "print(fruit_basket)\n",
    "\n",
    "#input-function 2nd stage\n",
    "#name= input(\"What is your name? \")\n",
    "#greetings= \"Hello\"\n",
    "\n",
    "#3rd stage input functin\n",
    "name= input(\"What is your name? \")\n",
    "age= input(\"How old are you? \")\n",
    "greetings=\"Hello!\"\n",
    "\n",
    "print(greetings, name, \",You are still young\")\n",
    "\n",
    "print(greetings, name)"
   ]
  },
  {
   "cell_type": "code",
   "execution_count": 120,
   "id": "db75f1fe",
   "metadata": {},
   "outputs": [],
   "source": [
    "### **07-conditional_logics in python**"
   ]
  },
  {
   "cell_type": "code",
   "execution_count": 121,
   "id": "95e9b045",
   "metadata": {},
   "outputs": [
    {
     "name": "stdout",
     "output_type": "stream",
     "text": [
      "How old is hamand? 2\n",
      "<class 'int'>\n",
      "False\n"
     ]
    }
   ],
   "source": [
    "#logical operators are either \"true or false\" or \"yes or no\" or \"o or 1\"\n",
    "# equal to                     ==\n",
    "# not equal to                 !=\n",
    "# less than                    <\n",
    "# greater than                 >\n",
    "# less than and equal to       <=\n",
    "# greater than and equal to    >=\n",
    "\n",
    "#is 4 equal to 4?\n",
    "#print(4==4)\n",
    "#print(4!=4)\n",
    "#print(4>3)\n",
    "#print(4<4)\n",
    "#print(3<=5)\n",
    "#print(3>=5)\n",
    "\n",
    "# aplication of logical operators\n",
    "#hamand_age=5\n",
    "#age_at_school=5\n",
    "#print(hamand_age==age_at_school)\n",
    "\n",
    "#input operator logical\n",
    "age_at_school=5\n",
    "hamand_age=input(\"How old is hamand? \") #input function\n",
    "hamand_age=int(hamand_age)\n",
    "print(type(hamand_age))\n",
    "print(hamand_age==age_at_school) #logical operator\n",
    "\n",
    "#convert input"
   ]
  },
  {
   "cell_type": "code",
   "execution_count": 122,
   "id": "ede4bc9b",
   "metadata": {},
   "outputs": [],
   "source": [
    "### **08-type_conversion in python**"
   ]
  },
  {
   "cell_type": "code",
   "execution_count": 123,
   "id": "cb425f2a",
   "metadata": {},
   "outputs": [
    {
     "name": "stdout",
     "output_type": "stream",
     "text": [
      "What is your name? sarfraz\n",
      "sarfraz <class 'str'>\n"
     ]
    }
   ],
   "source": [
    "x = 10 #integer\n",
    "y = 10.2 #float\n",
    "z= \"Hell0\" #sring\n",
    "\n",
    "#implicint type conversion\n",
    "#x= x+y\n",
    "#print(x, \"type of x is:\", type(x))\n",
    "\n",
    "#explicit type conversion\n",
    "#age=input(\"What is your age? \")\n",
    "#age=int(age)\n",
    "#print(type(age))\n",
    "\n",
    "#name\n",
    "name=input(\"What is your name? \")\n",
    "name=str(name)\n",
    "print(name, type(name))\n",
    "\n",
    "#type_conversion"
   ]
  },
  {
   "cell_type": "code",
   "execution_count": 124,
   "id": "9ad8938f",
   "metadata": {},
   "outputs": [],
   "source": [
    "### **09-if_else_elif in python**"
   ]
  },
  {
   "cell_type": "code",
   "execution_count": 125,
   "id": "e7898d28",
   "metadata": {},
   "outputs": [
    {
     "name": "stdout",
     "output_type": "stream",
     "text": [
      "You should take care of Hamand, he is still a baby!\n"
     ]
    }
   ],
   "source": [
    "hamand_age=2\n",
    "required_age_at_school=5\n",
    "\n",
    "#question: can hamand if go to school?\n",
    "if hamand_age==required_age_at_school:\n",
    "    print(\"Congratulations! Hamand can jion the school.\")\n",
    "elif hamand_age > required_age_at_school:\n",
    "    print(\"Hamand should jion higher secondary school!\")\n",
    "elif hamand_age == 2:\n",
    "    print(\"You should take care of Hamand, he is still a baby!\")    \n",
    "else:\n",
    "    print(\"Hamand can not go to school\")\n",
    "\n",
    "# if, elip, else statement clear "
   ]
  },
  {
   "cell_type": "code",
   "execution_count": 126,
   "id": "4a6e5de7",
   "metadata": {},
   "outputs": [],
   "source": [
    "### **10-function in python**"
   ]
  },
  {
   "cell_type": "code",
   "execution_count": 127,
   "id": "779ebf0b",
   "metadata": {},
   "outputs": [
    {
     "name": "stdout",
     "output_type": "stream",
     "text": [
      "38\n"
     ]
    }
   ],
   "source": [
    "#print(\"We are learning with sarfraz\")\n",
    "# defining # function\n",
    "\n",
    "\n",
    "\n",
    "# 2\n",
    "#\n",
    "\n",
    "# 3\n",
    "#def print_codanics(text):\n",
    "    #print(text)\n",
    "    #print(text)\n",
    "    #print(text)\n",
    "\n",
    "\n",
    "#print_codanics(\"We are learnig python with sarfraz\")\n",
    "\n",
    "# defining a function with if, elif, and else statement\n",
    "\n",
    "#def school_calculator(age, text):\n",
    "    #if age==5:\n",
    "        #print(\"Hamand can join the school\")\n",
    "    #elif age>5:\n",
    "        #print(\"Hamand should go to higher school\")\n",
    "    #else:\n",
    "        #print(\"Hamand is still a baby\")\n",
    "\n",
    "#school_calculator(2,\"Hamand\")\n",
    "\n",
    "# defining a function of future\n",
    "\n",
    "def future_age(age):\n",
    "    new_age=age+20\n",
    "    return new_age\n",
    "\n",
    "future_predicted_age=future_age(18)\n",
    "print(future_predicted_age)\n",
    "\n",
    "#i understand function really well"
   ]
  },
  {
   "cell_type": "code",
   "execution_count": 128,
   "id": "b34e94f0",
   "metadata": {},
   "outputs": [],
   "source": [
    "### **11-loops in python**"
   ]
  },
  {
   "cell_type": "code",
   "execution_count": 129,
   "id": "0347c9be",
   "metadata": {},
   "outputs": [
    {
     "name": "stdout",
     "output_type": "stream",
     "text": [
      "Mon\n",
      "Tue\n",
      "Wed\n",
      "Thu\n",
      "Fri\n",
      "Sat\n",
      "Sun\n"
     ]
    }
   ],
   "source": [
    "#while and For loops\n",
    "#while loops\n",
    "\n",
    "#x=0\n",
    "#while (x<5):\n",
    "    #print(x)\n",
    "    #x=x+1\n",
    "\n",
    "#for loops\n",
    "\n",
    "#for x in range(5, 11):\n",
    "    #print(x)\n",
    "\n",
    "# array\n",
    "days = [\"Mon\",\"Tue\",\"Wed\",\"Thu\",\"Fri\",\"Sat\",\"Sun\"]\n",
    "for d in days:\n",
    "    if (d==\"fri\"):break\n",
    "    print(d)"
   ]
  },
  {
   "cell_type": "code",
   "execution_count": 130,
   "id": "f59336c2",
   "metadata": {},
   "outputs": [],
   "source": [
    "### **12-import_libraries in python**"
   ]
  },
  {
   "cell_type": "code",
   "execution_count": 131,
   "id": "bdd4f6a4",
   "metadata": {},
   "outputs": [
    {
     "name": "stdout",
     "output_type": "stream",
     "text": [
      "The value of pi is  3.141592653589793\n",
      "300\n"
     ]
    }
   ],
   "source": [
    "#if you want to print value of pi\n",
    "import math\n",
    "print(\"The value of pi is \", math.pi)\n",
    "\n",
    "import statistics\n",
    "x = [150, 250, 350, 450]\n",
    "print(statistics.mean(x))\n",
    "\n",
    "#numpy #pandas\n"
   ]
  },
  {
   "cell_type": "code",
   "execution_count": 132,
   "id": "24ece97b",
   "metadata": {},
   "outputs": [],
   "source": [
    "### **13-trouble_shooting in python**"
   ]
  },
  {
   "cell_type": "code",
   "execution_count": 133,
   "id": "33325326",
   "metadata": {},
   "outputs": [
    {
     "name": "stdout",
     "output_type": "stream",
     "text": [
      "Hello Sarfraz\n"
     ]
    }
   ],
   "source": [
    "# print(\"We are learing python with Sarfraz\") #syntax error\n",
    "\n",
    "# print(25/o) #runtime error\n",
    "\n",
    "\n",
    "name= \"Sarfraz\"\n",
    "print(\"Hello\", name)\n",
    "\n",
    "#trouble shooting is easy"
   ]
  },
  {
   "cell_type": "code",
   "execution_count": null,
   "id": "3ed64da1",
   "metadata": {},
   "outputs": [],
   "source": []
  }
 ],
 "metadata": {
  "kernelspec": {
   "display_name": "Python 3 (ipykernel)",
   "language": "python",
   "name": "python3"
  },
  "language_info": {
   "codemirror_mode": {
    "name": "ipython",
    "version": 3
   },
   "file_extension": ".py",
   "mimetype": "text/x-python",
   "name": "python",
   "nbconvert_exporter": "python",
   "pygments_lexer": "ipython3",
   "version": "3.9.13"
  }
 },
 "nbformat": 4,
 "nbformat_minor": 5
}
